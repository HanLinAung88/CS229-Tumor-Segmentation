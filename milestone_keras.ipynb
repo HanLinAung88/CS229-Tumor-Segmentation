{
 "cells": [
  {
   "cell_type": "code",
   "execution_count": 2,
   "metadata": {},
   "outputs": [],
   "source": [
    "import cv2\n",
    "import log_reg\n",
    "import numpy as np\n",
    "from glob import glob\n",
    "from matplotlib.pyplot import imread, imshow\n",
    "from util import read_X_Y, get_data_col, filter_data_by_colval\n",
    "from keras.models import Sequential \n",
    "from keras.layers import Dense, Activation, Reshape\n",
    "from keras.layers import Dense, Dropout, Flatten\n",
    "from keras.layers import Conv2D, MaxPooling2D\n",
    "from keras.utils import to_categorical\n",
    "from sklearn.model_selection import train_test_split\n",
    "#TensorBoard\n",
    "from keras.callbacks import TensorBoard\n",
    "from time import time"
   ]
  },
  {
   "cell_type": "code",
   "execution_count": 2,
   "metadata": {},
   "outputs": [],
   "source": [
    "file_names = sorted(glob('all-mias/*.pgm'))"
   ]
  },
  {
   "cell_type": "code",
   "execution_count": 59,
   "metadata": {},
   "outputs": [],
   "source": [
    "headers = ['file_name', 'character', 'class', 'severity', 'x', 'y', 'radius']\n",
    "filtered_X, Y_headers,Y_names = read_X_Y('dataset/data.txt',headers)"
   ]
  },
  {
   "cell_type": "code",
   "execution_count": 60,
   "metadata": {},
   "outputs": [],
   "source": [
    "image_stack = np.array([imread(file_name) for file_name in filtered_X])"
   ]
  },
  {
   "cell_type": "code",
   "execution_count": 64,
   "metadata": {},
   "outputs": [],
   "source": [
    "def produce_y_mask(Y,Y_names):\n",
    "    for i in range(len(Y)):\n",
    "        image = np.zeros((1024,1024,1))\n",
    "        cv2.circle(image, (int(Y[i][0]),1024-int(Y[i][1])),int(Y[i][2]),(255),-1)\n",
    "        name = 'mias_y_masked/' + Y_names[i] + '.png'\n",
    "        cv2.imwrite(name, image)"
   ]
  },
  {
   "cell_type": "code",
   "execution_count": 65,
   "metadata": {},
   "outputs": [],
   "source": [
    "# print(Y_headers)\n",
    "produce_y_mask(Y_headers,Y_names)"
   ]
  },
  {
   "cell_type": "code",
   "execution_count": 66,
   "metadata": {},
   "outputs": [],
   "source": [
    "Y_mask_filenames = ['mias_y_masked/' + file_name + '.png' for file_name in Y_names]\n",
    "Y = np.array([imread(file_name) for file_name in Y_mask_filenames])"
   ]
  },
  {
   "cell_type": "code",
   "execution_count": 71,
   "metadata": {
    "scrolled": true
   },
   "outputs": [
    {
     "name": "stdout",
     "output_type": "stream",
     "text": [
      "(119, 1024, 1024)\n"
     ]
    },
    {
     "name": "stderr",
     "output_type": "stream",
     "text": [
      "/anaconda3/lib/python3.6/site-packages/sklearn/model_selection/_split.py:2026: FutureWarning: From version 0.21, test_size will always complement train_size unless both are specified.\n",
      "  FutureWarning)\n"
     ]
    },
    {
     "name": "stdout",
     "output_type": "stream",
     "text": [
      "(71, 1024, 1024, 1)\n",
      "(71, 1048576, 1)\n",
      "(24, 1024, 1024, 1)\n",
      "(24, 1048576, 1)\n",
      "(24, 1024, 1024, 1)\n",
      "(24, 1048576, 1)\n"
     ]
    }
   ],
   "source": [
    "Y = np.array(Y)\n",
    "Y = np.squeeze(Y)\n",
    "m,l,h = image_stack.shape\n",
    "\n",
    "print(image_stack.shape)\n",
    "X = image_stack.reshape((m,l,h,1))\n",
    "Y = Y.reshape((m,l*h,1))\n",
    "X_train, X_test, Y_train, Y_test = train_test_split(X,Y,train_size=0.6,random_state=42)\n",
    "X_val, X_test, Y_val, Y_test = train_test_split(X_test,Y_test,train_size=0.5,random_state=42)\n",
    "\n",
    "# X_train = X_train.reshape(X_train.shape[0], X_train.shape[1], 1)\n",
    "# X_test = X_test.reshape(X_test.shape[0], X_test.shape[1], 1)\n",
    "# X_val = X_val.reshape(X_val.shape[0], X_val.shape[1], 1)\n",
    "\n",
    "print(X_train.shape)\n",
    "print(Y_train.shape)\n",
    "print(X_val.shape)\n",
    "print(Y_val.shape)\n",
    "print(X_test.shape)\n",
    "print(Y_test.shape)\n",
    "\n",
    "# Y_train = Y_train.reshape((m,l*h,1))\n",
    "\n"
   ]
  },
  {
   "cell_type": "code",
   "execution_count": 72,
   "metadata": {},
   "outputs": [],
   "source": [
    "Y_train = to_categorical(Y_train)\n",
    "Y_test = to_categorical(Y_test)\n",
    "Y_val = to_categorical(Y_val)"
   ]
  },
  {
   "cell_type": "code",
   "execution_count": null,
   "metadata": {},
   "outputs": [
    {
     "name": "stdout",
     "output_type": "stream",
     "text": [
      "_________________________________________________________________\n",
      "Layer (type)                 Output Shape              Param #   \n",
      "=================================================================\n",
      "conv2d_60 (Conv2D)           (None, 1020, 1020, 64)    1664      \n",
      "_________________________________________________________________\n",
      "conv2d_61 (Conv2D)           (None, 1016, 1016, 128)   204928    \n",
      "_________________________________________________________________\n",
      "max_pooling2d_20 (MaxPooling (None, 10, 10, 128)       0         \n",
      "_________________________________________________________________\n",
      "dropout_20 (Dropout)         (None, 10, 10, 128)       0         \n",
      "_________________________________________________________________\n",
      "conv2d_62 (Conv2D)           (None, 6, 6, 128)         409728    \n",
      "_________________________________________________________________\n",
      "flatten_6 (Flatten)          (None, 4608)              0         \n",
      "_________________________________________________________________\n",
      "dense_40 (Dense)             (None, 64)                294976    \n",
      "_________________________________________________________________\n",
      "dense_41 (Dense)             (None, 2097152)           136314880 \n",
      "_________________________________________________________________\n",
      "reshape_13 (Reshape)         (None, 1048576, 2)        0         \n",
      "_________________________________________________________________\n",
      "activation_11 (Activation)   (None, 1048576, 2)        0         \n",
      "=================================================================\n",
      "Total params: 137,226,176\n",
      "Trainable params: 137,226,176\n",
      "Non-trainable params: 0\n",
      "_________________________________________________________________\n",
      "(71, 1024, 1024, 1)\n",
      "(71, 1048576, 2)\n",
      "Train on 71 samples, validate on 24 samples\n",
      "Epoch 1/20\n"
     ]
    }
   ],
   "source": [
    "model = Sequential()\n",
    "model.add(Conv2D(64, kernel_size=(5, 5),\n",
    "                 activation='relu',\n",
    "                 input_shape=(l,h,1)))\n",
    "model.add(Conv2D(128, kernel_size=(5, 5),\n",
    "                 activation='relu'))\n",
    "model.add(MaxPooling2D(pool_size=(100, 100)))\n",
    "model.add(Dropout(0.25))\n",
    "model.add(Conv2D(128, kernel_size=(5, 5),\n",
    "                 activation='relu'))\n",
    "model.add(Flatten())\n",
    "model.add(Dense(64, activation='relu'))\n",
    "model.add(Dense(1048576*2))\n",
    "model.add(Reshape((1048576, 2)))\n",
    "model.add(Activation('softmax'))\n",
    "\n",
    "model.compile(optimizer='Adam',\n",
    "              loss='categorical_crossentropy')\n",
    "# model.summary()\n",
    "# print(X_train.shape)\n",
    "# print(Y_train.shape)\n",
    "tensorboard = TensorBoard(log_dir=\"logs/{}\".format(time()))\n",
    "model.fit(X_train,Y_train,epochs=20, validation_data=(X_val, Y_val), batch_size=32,verbose=1, callbacks=[tensorboard])"
   ]
  },
  {
   "cell_type": "code",
   "execution_count": 7,
   "metadata": {},
   "outputs": [
    {
     "name": "stdout",
     "output_type": "stream",
     "text": [
      "Train on 71 samples, validate on 24 samples\n",
      "Epoch 1/20\n",
      "71/71 [==============================] - 26s 366ms/step - loss: 16666.3377 - val_loss: 11683.5654\n",
      "Epoch 2/20\n",
      "71/71 [==============================] - 13s 185ms/step - loss: 7853.4531 - val_loss: 453.2060\n",
      "Epoch 3/20\n",
      "71/71 [==============================] - 11s 157ms/step - loss: 385.5853 - val_loss: 344.5707\n",
      "Epoch 4/20\n",
      "71/71 [==============================] - 8s 118ms/step - loss: 350.8421 - val_loss: 344.5707\n",
      "Epoch 5/20\n",
      "71/71 [==============================] - 10s 134ms/step - loss: 350.8421 - val_loss: 344.5707\n",
      "Epoch 6/20\n",
      "71/71 [==============================] - 13s 183ms/step - loss: 350.8421 - val_loss: 344.5707\n",
      "Epoch 7/20\n",
      "71/71 [==============================] - 10s 136ms/step - loss: 350.8421 - val_loss: 344.5707\n",
      "Epoch 8/20\n",
      "71/71 [==============================] - 9s 132ms/step - loss: 350.8421 - val_loss: 344.5707\n",
      "Epoch 9/20\n",
      "71/71 [==============================] - 10s 137ms/step - loss: 350.8421 - val_loss: 344.5707\n",
      "Epoch 10/20\n",
      "71/71 [==============================] - 9s 120ms/step - loss: 350.8421 - val_loss: 344.5707\n",
      "Epoch 11/20\n",
      "71/71 [==============================] - 9s 122ms/step - loss: 350.8421 - val_loss: 344.5707\n",
      "Epoch 12/20\n",
      "71/71 [==============================] - 10s 138ms/step - loss: 350.8420 - val_loss: 344.5707\n",
      "Epoch 13/20\n",
      "71/71 [==============================] - 9s 124ms/step - loss: 350.8421 - val_loss: 344.5707\n",
      "Epoch 14/20\n",
      "71/71 [==============================] - 12s 174ms/step - loss: 350.8421 - val_loss: 344.5707\n",
      "Epoch 15/20\n",
      "71/71 [==============================] - 9s 130ms/step - loss: 350.8421 - val_loss: 344.5707\n",
      "Epoch 16/20\n",
      "71/71 [==============================] - 11s 152ms/step - loss: 350.8421 - val_loss: 344.5707\n",
      "Epoch 17/20\n",
      "71/71 [==============================] - 12s 172ms/step - loss: 350.8421 - val_loss: 344.5707\n",
      "Epoch 18/20\n",
      "71/71 [==============================] - 8s 112ms/step - loss: 350.8420 - val_loss: 344.5707\n",
      "Epoch 19/20\n",
      "71/71 [==============================] - 8s 115ms/step - loss: 350.8421 - val_loss: 344.5707\n",
      "Epoch 20/20\n",
      "71/71 [==============================] - 8s 117ms/step - loss: 350.8421 - val_loss: 344.5707\n"
     ]
    },
    {
     "data": {
      "text/plain": [
       "<keras.callbacks.History at 0x1a24a64470>"
      ]
     },
     "execution_count": 7,
     "metadata": {},
     "output_type": "execute_result"
    }
   ],
   "source": [
    "#General model seems to need an extremely large output!\n",
    "model = Sequential([\n",
    "    Dense(128, input_shape=(l*h,)),\n",
    "    Activation('relu'),\n",
    "    Dense(64),\n",
    "    Activation('relu'),\n",
    "    Dense(32),\n",
    "    Activation('relu'),\n",
    "    Dense(32),\n",
    "    Activation('relu'),\n",
    "    Dense(3),\n",
    "    Activation('relu'),\n",
    "])\n",
    "model.compile(optimizer='Adam',\n",
    "              loss='categorical_crossentropy')\n",
    "model.fit(X_train,Y_train,epochs=20, validation_data=(X_val, Y_val), batch_size=32)"
   ]
  },
  {
   "cell_type": "code",
   "execution_count": 8,
   "metadata": {},
   "outputs": [],
   "source": [
    "y_pred_val = model.predict(X_train)"
   ]
  },
  {
   "cell_type": "code",
   "execution_count": 9,
   "metadata": {},
   "outputs": [
    {
     "name": "stdout",
     "output_type": "stream",
     "text": [
      "[[0. 0. 0.]\n",
      " [0. 0. 0.]\n",
      " [0. 0. 0.]\n",
      " [0. 0. 0.]\n",
      " [0. 0. 0.]\n",
      " [0. 0. 0.]\n",
      " [0. 0. 0.]\n",
      " [0. 0. 0.]\n",
      " [0. 0. 0.]\n",
      " [0. 0. 0.]\n",
      " [0. 0. 0.]\n",
      " [0. 0. 0.]\n",
      " [0. 0. 0.]\n",
      " [0. 0. 0.]\n",
      " [0. 0. 0.]\n",
      " [0. 0. 0.]\n",
      " [0. 0. 0.]\n",
      " [0. 0. 0.]\n",
      " [0. 0. 0.]\n",
      " [0. 0. 0.]\n",
      " [0. 0. 0.]\n",
      " [0. 0. 0.]\n",
      " [0. 0. 0.]\n",
      " [0. 0. 0.]\n",
      " [0. 0. 0.]\n",
      " [0. 0. 0.]\n",
      " [0. 0. 0.]\n",
      " [0. 0. 0.]\n",
      " [0. 0. 0.]\n",
      " [0. 0. 0.]\n",
      " [0. 0. 0.]\n",
      " [0. 0. 0.]\n",
      " [0. 0. 0.]\n",
      " [0. 0. 0.]\n",
      " [0. 0. 0.]\n",
      " [0. 0. 0.]\n",
      " [0. 0. 0.]\n",
      " [0. 0. 0.]\n",
      " [0. 0. 0.]\n",
      " [0. 0. 0.]\n",
      " [0. 0. 0.]\n",
      " [0. 0. 0.]\n",
      " [0. 0. 0.]\n",
      " [0. 0. 0.]\n",
      " [0. 0. 0.]\n",
      " [0. 0. 0.]\n",
      " [0. 0. 0.]\n",
      " [0. 0. 0.]\n",
      " [0. 0. 0.]\n",
      " [0. 0. 0.]\n",
      " [0. 0. 0.]\n",
      " [0. 0. 0.]\n",
      " [0. 0. 0.]\n",
      " [0. 0. 0.]\n",
      " [0. 0. 0.]\n",
      " [0. 0. 0.]\n",
      " [0. 0. 0.]\n",
      " [0. 0. 0.]\n",
      " [0. 0. 0.]\n",
      " [0. 0. 0.]\n",
      " [0. 0. 0.]\n",
      " [0. 0. 0.]\n",
      " [0. 0. 0.]\n",
      " [0. 0. 0.]\n",
      " [0. 0. 0.]\n",
      " [0. 0. 0.]\n",
      " [0. 0. 0.]\n",
      " [0. 0. 0.]\n",
      " [0. 0. 0.]\n",
      " [0. 0. 0.]\n",
      " [0. 0. 0.]]\n"
     ]
    }
   ],
   "source": [
    "print(y_pred_val)"
   ]
  },
  {
   "cell_type": "code",
   "execution_count": 28,
   "metadata": {},
   "outputs": [
    {
     "name": "stdout",
     "output_type": "stream",
     "text": [
      "[[448. 480.  95.]\n",
      " [492. 473. 131.]\n",
      " [600. 514.  67.]\n",
      " [518. 191.  39.]\n",
      " [356. 945.  72.]\n",
      " [647. 503.  87.]\n",
      " [523. 482.  29.]\n",
      " [547. 520.  45.]\n",
      " [366. 620.  33.]\n",
      " [525. 425.  33.]\n",
      " [489. 480.  82.]\n",
      " [415. 460.  38.]\n",
      " [326. 607. 174.]\n",
      " [352. 624. 114.]\n",
      " [462. 406.  44.]\n",
      " [603. 538.  44.]\n",
      " [522. 553.  17.]\n",
      " [519. 362.  54.]\n",
      " [592. 670.  33.]\n",
      " [493. 125.  49.]\n",
      " [612. 297.  34.]\n",
      " [191. 549.  23.]\n",
      " [400. 484.  37.]\n",
      " [653. 477.  49.]]\n"
     ]
    }
   ],
   "source": [
    "print(Y_val)"
   ]
  },
  {
   "cell_type": "code",
   "execution_count": null,
   "metadata": {},
   "outputs": [
    {
     "name": "stdout",
     "output_type": "stream",
     "text": [
      "Train on 71 samples, validate on 24 samples\n",
      "Epoch 1/20\n"
     ]
    }
   ],
   "source": [
    "model2 = Sequential([\n",
    "    Dense(1024, input_shape=(l*h,)),\n",
    "    Activation('relu'),\n",
    "    Dense(512),\n",
    "    Activation('relu'),\n",
    "    Dense(256),\n",
    "    Activation('relu'),\n",
    "    Dense(64),\n",
    "    Activation('relu'),\n",
    "    Dense(3),\n",
    "    Activation('relu'),\n",
    "])\n",
    "model2.compile(optimizer='Adam',\n",
    "              loss='mean_squared_error')\n",
    "model2.fit(X_train,Y_train,epochs=20, validation_data=(X_val, Y_val), batch_size=32)"
   ]
  },
  {
   "cell_type": "code",
   "execution_count": 18,
   "metadata": {},
   "outputs": [
    {
     "name": "stdout",
     "output_type": "stream",
     "text": [
      "(1048576,)\n"
     ]
    },
    {
     "ename": "ValueError",
     "evalue": "Error when checking target: expected activation_55 to have shape (3,) but got array with shape (1,)",
     "output_type": "error",
     "traceback": [
      "\u001b[0;31m---------------------------------------------------------------------------\u001b[0m",
      "\u001b[0;31mValueError\u001b[0m                                Traceback (most recent call last)",
      "\u001b[0;32m<ipython-input-18-2caf10b6935b>\u001b[0m in \u001b[0;36m<module>\u001b[0;34m()\u001b[0m\n\u001b[1;32m     14\u001b[0m               loss='mean_squared_error')\n\u001b[1;32m     15\u001b[0m \u001b[0mprint\u001b[0m\u001b[0;34m(\u001b[0m\u001b[0mX_train\u001b[0m\u001b[0;34m[\u001b[0m\u001b[0;36m0\u001b[0m\u001b[0;34m]\u001b[0m\u001b[0;34m.\u001b[0m\u001b[0mshape\u001b[0m\u001b[0;34m)\u001b[0m\u001b[0;34m\u001b[0m\u001b[0m\n\u001b[0;32m---> 16\u001b[0;31m \u001b[0mmodel2\u001b[0m\u001b[0;34m.\u001b[0m\u001b[0mfit\u001b[0m\u001b[0;34m(\u001b[0m\u001b[0mnp\u001b[0m\u001b[0;34m.\u001b[0m\u001b[0mreshape\u001b[0m\u001b[0;34m(\u001b[0m\u001b[0mX_train\u001b[0m\u001b[0;34m[\u001b[0m\u001b[0;36m0\u001b[0m\u001b[0;34m]\u001b[0m\u001b[0;34m,\u001b[0m\u001b[0;34m(\u001b[0m\u001b[0;36m1\u001b[0m\u001b[0;34m,\u001b[0m\u001b[0mX_train\u001b[0m\u001b[0;34m[\u001b[0m\u001b[0;36m0\u001b[0m\u001b[0;34m]\u001b[0m\u001b[0;34m.\u001b[0m\u001b[0mshape\u001b[0m\u001b[0;34m[\u001b[0m\u001b[0;36m0\u001b[0m\u001b[0;34m]\u001b[0m\u001b[0;34m)\u001b[0m\u001b[0;34m)\u001b[0m\u001b[0;34m,\u001b[0m\u001b[0mnp\u001b[0m\u001b[0;34m.\u001b[0m\u001b[0mreshape\u001b[0m\u001b[0;34m(\u001b[0m\u001b[0mY_train\u001b[0m\u001b[0;34m[\u001b[0m\u001b[0;36m0\u001b[0m\u001b[0;34m]\u001b[0m\u001b[0;34m,\u001b[0m \u001b[0;34m(\u001b[0m\u001b[0;36m3\u001b[0m\u001b[0;34m,\u001b[0m\u001b[0;36m1\u001b[0m\u001b[0;34m)\u001b[0m\u001b[0;34m)\u001b[0m\u001b[0;34m,\u001b[0m\u001b[0mepochs\u001b[0m\u001b[0;34m=\u001b[0m\u001b[0;36m5\u001b[0m\u001b[0;34m,\u001b[0m \u001b[0mbatch_size\u001b[0m\u001b[0;34m=\u001b[0m\u001b[0;36m32\u001b[0m\u001b[0;34m)\u001b[0m\u001b[0;34m\u001b[0m\u001b[0m\n\u001b[0m",
      "\u001b[0;32m/anaconda3/lib/python3.6/site-packages/keras/engine/training.py\u001b[0m in \u001b[0;36mfit\u001b[0;34m(self, x, y, batch_size, epochs, verbose, callbacks, validation_split, validation_data, shuffle, class_weight, sample_weight, initial_epoch, steps_per_epoch, validation_steps, **kwargs)\u001b[0m\n\u001b[1;32m    950\u001b[0m             \u001b[0msample_weight\u001b[0m\u001b[0;34m=\u001b[0m\u001b[0msample_weight\u001b[0m\u001b[0;34m,\u001b[0m\u001b[0;34m\u001b[0m\u001b[0m\n\u001b[1;32m    951\u001b[0m             \u001b[0mclass_weight\u001b[0m\u001b[0;34m=\u001b[0m\u001b[0mclass_weight\u001b[0m\u001b[0;34m,\u001b[0m\u001b[0;34m\u001b[0m\u001b[0m\n\u001b[0;32m--> 952\u001b[0;31m             batch_size=batch_size)\n\u001b[0m\u001b[1;32m    953\u001b[0m         \u001b[0;31m# Prepare validation data.\u001b[0m\u001b[0;34m\u001b[0m\u001b[0;34m\u001b[0m\u001b[0m\n\u001b[1;32m    954\u001b[0m         \u001b[0mdo_validation\u001b[0m \u001b[0;34m=\u001b[0m \u001b[0;32mFalse\u001b[0m\u001b[0;34m\u001b[0m\u001b[0m\n",
      "\u001b[0;32m/anaconda3/lib/python3.6/site-packages/keras/engine/training.py\u001b[0m in \u001b[0;36m_standardize_user_data\u001b[0;34m(self, x, y, sample_weight, class_weight, check_array_lengths, batch_size)\u001b[0m\n\u001b[1;32m    787\u001b[0m                 \u001b[0mfeed_output_shapes\u001b[0m\u001b[0;34m,\u001b[0m\u001b[0;34m\u001b[0m\u001b[0m\n\u001b[1;32m    788\u001b[0m                 \u001b[0mcheck_batch_axis\u001b[0m\u001b[0;34m=\u001b[0m\u001b[0;32mFalse\u001b[0m\u001b[0;34m,\u001b[0m  \u001b[0;31m# Don't enforce the batch size.\u001b[0m\u001b[0;34m\u001b[0m\u001b[0m\n\u001b[0;32m--> 789\u001b[0;31m                 exception_prefix='target')\n\u001b[0m\u001b[1;32m    790\u001b[0m \u001b[0;34m\u001b[0m\u001b[0m\n\u001b[1;32m    791\u001b[0m             \u001b[0;31m# Generate sample-wise weight values given the `sample_weight` and\u001b[0m\u001b[0;34m\u001b[0m\u001b[0;34m\u001b[0m\u001b[0m\n",
      "\u001b[0;32m/anaconda3/lib/python3.6/site-packages/keras/engine/training_utils.py\u001b[0m in \u001b[0;36mstandardize_input_data\u001b[0;34m(data, names, shapes, check_batch_axis, exception_prefix)\u001b[0m\n\u001b[1;32m    136\u001b[0m                             \u001b[0;34m': expected '\u001b[0m \u001b[0;34m+\u001b[0m \u001b[0mnames\u001b[0m\u001b[0;34m[\u001b[0m\u001b[0mi\u001b[0m\u001b[0;34m]\u001b[0m \u001b[0;34m+\u001b[0m \u001b[0;34m' to have shape '\u001b[0m \u001b[0;34m+\u001b[0m\u001b[0;34m\u001b[0m\u001b[0m\n\u001b[1;32m    137\u001b[0m                             \u001b[0mstr\u001b[0m\u001b[0;34m(\u001b[0m\u001b[0mshape\u001b[0m\u001b[0;34m)\u001b[0m \u001b[0;34m+\u001b[0m \u001b[0;34m' but got array with shape '\u001b[0m \u001b[0;34m+\u001b[0m\u001b[0;34m\u001b[0m\u001b[0m\n\u001b[0;32m--> 138\u001b[0;31m                             str(data_shape))\n\u001b[0m\u001b[1;32m    139\u001b[0m     \u001b[0;32mreturn\u001b[0m \u001b[0mdata\u001b[0m\u001b[0;34m\u001b[0m\u001b[0m\n\u001b[1;32m    140\u001b[0m \u001b[0;34m\u001b[0m\u001b[0m\n",
      "\u001b[0;31mValueError\u001b[0m: Error when checking target: expected activation_55 to have shape (3,) but got array with shape (1,)"
     ]
    }
   ],
   "source": [
    "model2 = Sequential([\n",
    "    Dense(128, input_shape=(l*h,)),\n",
    "    Activation('relu'),\n",
    "    Dense(64),\n",
    "    Activation('relu'),\n",
    "    Dense(32),\n",
    "    Activation('relu'),\n",
    "    Dense(16),\n",
    "    Activation('relu'),\n",
    "    Dense(3),\n",
    "    Activation('relu'),\n",
    "])\n",
    "model2.compile(optimizer='Adam',\n",
    "              loss='mean_squared_error')\n",
    "# print(X_train[0].shape)\n",
    "model2.fit(,epochs=5, batch_size=32)"
   ]
  },
  {
   "cell_type": "code",
   "execution_count": 9,
   "metadata": {},
   "outputs": [
    {
     "name": "stdout",
     "output_type": "stream",
     "text": [
      "[492. 434.  87.]\n"
     ]
    }
   ],
   "source": [
    "image = Image.new('1', (1024, 1024)) #create new image, 10x10 pixels, 1 bit per pixel\n",
    "print(Y_train[0])"
   ]
  },
  {
   "cell_type": "code",
   "execution_count": null,
   "metadata": {},
   "outputs": [],
   "source": [
    "draw = ImageDraw.Draw(image)\n",
    "draw.ellipse((2, 2, 8, 8), outline ='white')\n",
    "print list(image.getdata())"
   ]
  }
 ],
 "metadata": {
  "kernelspec": {
   "display_name": "Python 3",
   "language": "python",
   "name": "python3"
  },
  "language_info": {
   "codemirror_mode": {
    "name": "ipython",
    "version": 3
   },
   "file_extension": ".py",
   "mimetype": "text/x-python",
   "name": "python",
   "nbconvert_exporter": "python",
   "pygments_lexer": "ipython3",
   "version": "3.6.4"
  }
 },
 "nbformat": 4,
 "nbformat_minor": 2
}
